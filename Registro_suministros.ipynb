{
 "cells": [
  {
   "cell_type": "code",
   "execution_count": 1,
   "metadata": {},
   "outputs": [],
   "source": [
    "import datetime as dt\n",
    "import pandas as pd\n",
    "import sqlite3\n",
    "\n",
    "conexion = sqlite3.connect(\"./piezas.db\")\n",
    "cursor = conexion.cursor()"
   ]
  },
  {
   "cell_type": "code",
   "execution_count": 5,
   "metadata": {},
   "outputs": [],
   "source": [
    "def consulta_elemento(tabla, nombre):\n",
    "    query = f\"\"\"\n",
    "        SELECT *\n",
    "        FROM {tabla}\n",
    "        WHERE Nombre LIKE '%{nombre}%'\n",
    "        \"\"\"\n",
    "\n",
    "    ID = pd.read_sql(query, conexion).ID\n",
    "\n",
    "    if len(ID) == 0:\n",
    "        return 'No se encontró ID.'\n",
    "    return ID\n",
    "\n",
    "def consulta_id(tabla, ID:list):\n",
    "    query = f\"\"\"\n",
    "        SELECT *\n",
    "        FROM {tabla}\n",
    "        WHERE ID = '{ID}'\n",
    "        \"\"\"\n",
    "\n",
    "    return pd.read_sql(query, conexion)['Nombre'][0]"
   ]
  },
  {
   "cell_type": "code",
   "execution_count": 22,
   "metadata": {},
   "outputs": [
    {
     "name": "stdout",
     "output_type": "stream",
     "text": [
      "0 Herramientas y Tornillos S.L.\n",
      "1 Tornillones SA\n",
      "Tornillo hexagonal\n",
      "19\n"
     ]
    }
   ],
   "source": [
    "hoy = dt.datetime.now()\n",
    "\n",
    "for tabla in ['Proveedores','Pieza']:\n",
    "    algo = 'proveedor' if tabla == 'Proveedores' else 'pieza'\n",
    "\n",
    "    elemento = input(f'Inserte {algo}:').capitalize()\n",
    "    resultados = consulta_elemento(tabla, elemento)\n",
    "\n",
    "    if type(resultados) == str:\n",
    "        print(resultados)\n",
    "    else:\n",
    "        if len(resultados) > 1:\n",
    "            for index, resultado in enumerate(resultados):\n",
    "                print(index, consulta_id(tabla, resultado))\n",
    "\n",
    "            ID = input(f'Seleccione {algo}:')\n",
    "            while ID.isnumeric() != True or int(ID) > len(resultados)-1 or int(len(resultados)-1) <0:\n",
    "                ID = input(f'Inserte un número entre 0-{len(resultados)-1}:')\n",
    "        else:\n",
    "            print(consulta_id(tabla, resultados[0]))\n",
    "            ID = resultados[0]\n",
    "    if algo == 'proveedor':\n",
    "        ID_proveedor = ID\n",
    "    else:\n",
    "        ID_pieza = ID\n",
    "\n",
    "cantidad = input(f'Indique cantidad de piezas:')\n",
    "while cantidad.isnumeric() != True or int(cantidad) <= 0:\n",
    "    cantidad = input(f'Inserte una cantidad:')\n",
    "print(cantidad)"
   ]
  },
  {
   "cell_type": "code",
   "execution_count": 17,
   "metadata": {},
   "outputs": [
    {
     "data": {
      "text/plain": [
       "6"
      ]
     },
     "execution_count": 17,
     "metadata": {},
     "output_type": "execute_result"
    }
   ],
   "source": [
    "ID_proveedor"
   ]
  },
  {
   "cell_type": "code",
   "execution_count": null,
   "metadata": {},
   "outputs": [
    {
     "data": {
      "text/plain": [
       "<sqlite3.Cursor at 0x24484007b40>"
      ]
     },
     "execution_count": 2,
     "metadata": {},
     "output_type": "execute_result"
    }
   ],
   "source": [
    "tabla_suministros = '''\n",
    "CREATE TABLE Suministros (\n",
    "FECHA    DATE PRIMARY KEY, \n",
    "ID_PROVEEDOR    INT,\n",
    "ID_PIEZA    INT,\n",
    "CANTIDAD    INT     \n",
    ")\n",
    "'''\n",
    "cursor.execute(tabla_suministros)"
   ]
  },
  {
   "cell_type": "code",
   "execution_count": 4,
   "metadata": {},
   "outputs": [
    {
     "data": {
      "text/plain": [
       "[('table',\n",
       "  'Pieza',\n",
       "  'Pieza',\n",
       "  2,\n",
       "  'CREATE TABLE Pieza (\\n            ID INTEGER PRIMARY KEY AUTOINCREMENT,\\n            Nombre TEXT NOT NULL,\\n            Color TEXT,\\n            Precio REAL,\\n            ID_Categoria INTEGER\\n        )'),\n",
       " ('table',\n",
       "  'sqlite_sequence',\n",
       "  'sqlite_sequence',\n",
       "  3,\n",
       "  'CREATE TABLE sqlite_sequence(name,seq)'),\n",
       " ('table',\n",
       "  'Categoria',\n",
       "  'Categoria',\n",
       "  4,\n",
       "  'CREATE TABLE Categoria (\\n            ID INTEGER PRIMARY KEY AUTOINCREMENT,\\n            Nombre TEXT NOT NULL UNIQUE\\n        )'),\n",
       " ('table',\n",
       "  'Proveedores',\n",
       "  'Proveedores',\n",
       "  6,\n",
       "  'CREATE TABLE Proveedores (\\n            ID INTEGER PRIMARY KEY AUTOINCREMENT,\\n            Nombre TEXT NOT NULL,\\n            Direccion TEXT,\\n            Ciudad TEXT,\\n            Provincia TEXT,\\n            Codigo TEXT UNIQUE,\\n            Fecha_Registro DATE DEFAULT CURRENT_DATE\\n        )'),\n",
       " ('table',\n",
       "  'Suministros',\n",
       "  'Suministros',\n",
       "  8,\n",
       "  'CREATE TABLE Suministros (\\nFECHA    DATE PRIMARY KEY, \\nID_PROVEEDOR    INT,\\nID_PIEZA    INT,\\nCANTIDAD    INT     \\n)')]"
      ]
     },
     "execution_count": 4,
     "metadata": {},
     "output_type": "execute_result"
    }
   ],
   "source": [
    "query = \"SELECT * FROM sqlite_master WHERE type == 'table'\"\n",
    "cursor.execute(query)\n",
    "cursor.fetchall()"
   ]
  },
  {
   "cell_type": "code",
   "execution_count": 26,
   "metadata": {},
   "outputs": [],
   "source": [
    "def insertar_datos(fecha, ID_proveedor = ID_proveedor, ID_pieza = ID_pieza, cantidad = cantidad):\n",
    "    query = f\"INSERT INTO Suministros (FECHA, ID_PROVEEDOR, ID_PIEZA, CANTIDAD) VALUES ({fecha}, {ID_proveedor}, {ID_pieza}, {cantidad})\"\n",
    "    cursor.execute(query)\n",
    "    conexion.commit()\n",
    "\n",
    "    query = \"\"\"SELECT * FROM Suministros\"\"\"\n",
    "    df= pd.read_sql(query, conexion)\n",
    "\n",
    "    return df"
   ]
  },
  {
   "cell_type": "code",
   "execution_count": 27,
   "metadata": {},
   "outputs": [
    {
     "ename": "OperationalError",
     "evalue": "near \".2025\": syntax error",
     "output_type": "error",
     "traceback": [
      "\u001b[1;31m---------------------------------------------------------------------------\u001b[0m",
      "\u001b[1;31mOperationalError\u001b[0m                          Traceback (most recent call last)",
      "Cell \u001b[1;32mIn[27], line 1\u001b[0m\n\u001b[1;32m----> 1\u001b[0m \u001b[43minsertar_datos\u001b[49m\u001b[43m(\u001b[49m\u001b[38;5;124;43m\"\u001b[39;49m\u001b[38;5;124;43m23.04.2025\u001b[39;49m\u001b[38;5;124;43m\"\u001b[39;49m\u001b[43m)\u001b[49m\n",
      "Cell \u001b[1;32mIn[26], line 3\u001b[0m, in \u001b[0;36minsertar_datos\u001b[1;34m(fecha, ID_proveedor, ID_pieza, cantidad)\u001b[0m\n\u001b[0;32m      1\u001b[0m \u001b[38;5;28;01mdef\u001b[39;00m\u001b[38;5;250m \u001b[39m\u001b[38;5;21minsertar_datos\u001b[39m(fecha, ID_proveedor \u001b[38;5;241m=\u001b[39m ID_proveedor, ID_pieza \u001b[38;5;241m=\u001b[39m ID_pieza, cantidad \u001b[38;5;241m=\u001b[39m cantidad):\n\u001b[0;32m      2\u001b[0m     query \u001b[38;5;241m=\u001b[39m \u001b[38;5;124mf\u001b[39m\u001b[38;5;124m\"\u001b[39m\u001b[38;5;124mINSERT INTO Suministros (FECHA, ID_PROVEEDOR, ID_PIEZA, CANTIDAD) VALUES (\u001b[39m\u001b[38;5;132;01m{\u001b[39;00mfecha\u001b[38;5;132;01m}\u001b[39;00m\u001b[38;5;124m, \u001b[39m\u001b[38;5;132;01m{\u001b[39;00mID_proveedor\u001b[38;5;132;01m}\u001b[39;00m\u001b[38;5;124m, \u001b[39m\u001b[38;5;132;01m{\u001b[39;00mID_pieza\u001b[38;5;132;01m}\u001b[39;00m\u001b[38;5;124m, \u001b[39m\u001b[38;5;132;01m{\u001b[39;00mcantidad\u001b[38;5;132;01m}\u001b[39;00m\u001b[38;5;124m)\u001b[39m\u001b[38;5;124m\"\u001b[39m\n\u001b[1;32m----> 3\u001b[0m     \u001b[43mcursor\u001b[49m\u001b[38;5;241;43m.\u001b[39;49m\u001b[43mexecute\u001b[49m\u001b[43m(\u001b[49m\u001b[43mquery\u001b[49m\u001b[43m)\u001b[49m\n\u001b[0;32m      4\u001b[0m     conexion\u001b[38;5;241m.\u001b[39mcommit()\n\u001b[0;32m      6\u001b[0m     query \u001b[38;5;241m=\u001b[39m \u001b[38;5;124m\"\"\"\u001b[39m\u001b[38;5;124mSELECT * FROM Suministros\u001b[39m\u001b[38;5;124m\"\"\"\u001b[39m\n",
      "\u001b[1;31mOperationalError\u001b[0m: near \".2025\": syntax error"
     ]
    }
   ],
   "source": [
    "insertar_datos(\"23.04.2025\")"
   ]
  },
  {
   "cell_type": "code",
   "execution_count": null,
   "metadata": {},
   "outputs": [],
   "source": [
    "query = f\"INSERT INTO Suministros (FECHA, ID_PROVEEDOR, ID_PIEZA, CANTIDAD) VALUES ('23.04.2025', {ID_proveedor}, {ID_pieza}, {cantidad})\"\n",
    "cursor.execute(query)\n",
    "conexion.commit()\n",
    "\n"
   ]
  },
  {
   "cell_type": "code",
   "execution_count": 20,
   "metadata": {},
   "outputs": [],
   "source": [
    "query = \"\"\"SELECT * FROM Suministros\"\"\"\n",
    "df= pd.read_sql(query, conexion)"
   ]
  },
  {
   "cell_type": "code",
   "execution_count": 21,
   "metadata": {},
   "outputs": [
    {
     "data": {
      "text/html": [
       "<div>\n",
       "<style scoped>\n",
       "    .dataframe tbody tr th:only-of-type {\n",
       "        vertical-align: middle;\n",
       "    }\n",
       "\n",
       "    .dataframe tbody tr th {\n",
       "        vertical-align: top;\n",
       "    }\n",
       "\n",
       "    .dataframe thead th {\n",
       "        text-align: right;\n",
       "    }\n",
       "</style>\n",
       "<table border=\"1\" class=\"dataframe\">\n",
       "  <thead>\n",
       "    <tr style=\"text-align: right;\">\n",
       "      <th></th>\n",
       "      <th>FECHA</th>\n",
       "      <th>ID_PROVEEDOR</th>\n",
       "      <th>ID_PIEZA</th>\n",
       "      <th>CANTIDAD</th>\n",
       "    </tr>\n",
       "  </thead>\n",
       "  <tbody>\n",
       "    <tr>\n",
       "      <th>0</th>\n",
       "      <td>23.04.2025</td>\n",
       "      <td>2</td>\n",
       "      <td>1</td>\n",
       "      <td>10</td>\n",
       "    </tr>\n",
       "  </tbody>\n",
       "</table>\n",
       "</div>"
      ],
      "text/plain": [
       "        FECHA  ID_PROVEEDOR  ID_PIEZA  CANTIDAD\n",
       "0  23.04.2025             2         1        10"
      ]
     },
     "execution_count": 21,
     "metadata": {},
     "output_type": "execute_result"
    }
   ],
   "source": [
    "df"
   ]
  },
  {
   "cell_type": "code",
   "execution_count": null,
   "metadata": {},
   "outputs": [],
   "source": []
  }
 ],
 "metadata": {
  "kernelspec": {
   "display_name": "Python 3",
   "language": "python",
   "name": "python3"
  },
  "language_info": {
   "codemirror_mode": {
    "name": "ipython",
    "version": 3
   },
   "file_extension": ".py",
   "mimetype": "text/x-python",
   "name": "python",
   "nbconvert_exporter": "python",
   "pygments_lexer": "ipython3",
   "version": "3.13.2"
  }
 },
 "nbformat": 4,
 "nbformat_minor": 2
}
