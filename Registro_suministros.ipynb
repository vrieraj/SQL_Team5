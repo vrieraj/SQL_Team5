{
 "cells": [
  {
   "cell_type": "code",
   "execution_count": 1,
   "metadata": {},
   "outputs": [],
   "source": [
    "import datetime as dt\n",
    "import pandas as pd\n",
    "import sqlite3\n",
    "\n",
    "conexion = sqlite3.connect(\"./piezas.db\")"
   ]
  },
  {
   "cell_type": "code",
   "execution_count": 2,
   "metadata": {},
   "outputs": [],
   "source": [
    "def consulta_elemento(tabla, nombre):\n",
    "    query = f\"\"\"\n",
    "        SELECT *\n",
    "        FROM {tabla}\n",
    "        WHERE Nombre LIKE '%{nombre}%'\n",
    "        \"\"\"\n",
    "\n",
    "    ID = pd.read_sql(query, conexion).ID\n",
    "\n",
    "    if len(ID) == 0:\n",
    "        return 'No se encontró ID.'\n",
    "    return ID\n",
    "\n",
    "def consulta_id(tabla, ID:list):\n",
    "    query = f\"\"\"\n",
    "        SELECT *\n",
    "        FROM {tabla}\n",
    "        WHERE ID = '{ID}'\n",
    "        \"\"\"\n",
    "\n",
    "    return pd.read_sql(query, conexion)['Nombre'][0]"
   ]
  },
  {
   "cell_type": "code",
   "execution_count": null,
   "metadata": {},
   "outputs": [
    {
     "name": "stdout",
     "output_type": "stream",
     "text": [
      "Suministros Industriales López\n",
      "Tornillo hexagonal\n"
     ]
    }
   ],
   "source": [
    "hoy = dt.datetime.now()\n",
    "\n",
    "for tabla in ['Proveedores','Pieza']:\n",
    "    algo = 'proveedor' if tabla == 'Proveedores' else 'pieza'\n",
    "\n",
    "    elemento = input(f'Inserte {algo}:').capitalize()\n",
    "    resultados = consulta_elemento(tabla, elemento)\n",
    "\n",
    "    if type(resultados) == str:\n",
    "        print(resultados)\n",
    "    else:\n",
    "        if len(resultados) > 1:\n",
    "            for index, resultado in enumerate(resultados):\n",
    "                print(index, consulta_id(tabla, resultado))\n",
    "\n",
    "            ID = input(f'Seleccione {algo}:')\n",
    "            while ID.isnumeric() != True or int(ID) > len(resultados)-1 or int(len(resultados)-1) <0:\n",
    "                ID = input(f'Inserte un número entre 0-{len(resultados)-1}:')\n",
    "        else:\n",
    "            print(consulta_id(tabla, resultados[0]))\n",
    "            ID = resultados[0]\n",
    "    if algo == 'proveedor':\n",
    "        ID_proveedor = ID\n",
    "    else:\n",
    "        ID_pieza = ID\n",
    "\n",
    "cantidad = input(f'Indique cantidad de piezas:')\n",
    "while cantidad.isnumeric() != True or int(cantidad) <= 0:\n",
    "    cantidad = input(f'Inserte una cantidad:')"
   ]
  },
  {
   "cell_type": "code",
   "execution_count": 17,
   "metadata": {},
   "outputs": [
    {
     "data": {
      "text/plain": [
       "6"
      ]
     },
     "execution_count": 17,
     "metadata": {},
     "output_type": "execute_result"
    }
   ],
   "source": [
    "ID_proveedor"
   ]
  }
 ],
 "metadata": {
  "kernelspec": {
   "display_name": "Python 3",
   "language": "python",
   "name": "python3"
  },
  "language_info": {
   "codemirror_mode": {
    "name": "ipython",
    "version": 3
   },
   "file_extension": ".py",
   "mimetype": "text/x-python",
   "name": "python",
   "nbconvert_exporter": "python",
   "pygments_lexer": "ipython3",
   "version": "3.13.2"
  }
 },
 "nbformat": 4,
 "nbformat_minor": 2
}
